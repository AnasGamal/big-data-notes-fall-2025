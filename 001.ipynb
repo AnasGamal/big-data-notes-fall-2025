{
  "nbformat": 4,
  "nbformat_minor": 0,
  "metadata": {
    "colab": {
      "provenance": [],
      "authorship_tag": "ABX9TyPvxiKb9w3NaoubudoF4MHm",
      "include_colab_link": true
    },
    "kernelspec": {
      "name": "python3",
      "display_name": "Python 3"
    },
    "language_info": {
      "name": "python"
    }
  },
  "cells": [
    {
      "cell_type": "markdown",
      "metadata": {
        "id": "view-in-github",
        "colab_type": "text"
      },
      "source": [
        "<a href=\"https://colab.research.google.com/github/AnasGamal/big-data-notes-fall-2025/blob/main/001.ipynb\" target=\"_parent\"><img src=\"https://colab.research.google.com/assets/colab-badge.svg\" alt=\"Open In Colab\"/></a>"
      ]
    },
    {
      "cell_type": "code",
      "execution_count": null,
      "metadata": {
        "id": "DbaK2HQmag_F"
      },
      "outputs": [],
      "source": [
        "#Importing tensorflow and keras\n",
        "\n",
        "import tensorflow as tf\n",
        "from tensorflow import keras # for 1. Loading\n",
        "\n",
        "import numpy as np\n",
        "# for 3. Inspecting\n",
        "import matplotlib.pyplot as plt\n",
        "\n",
        "from tensorflow.keras.utils import to_categorical, plot_model"
      ]
    },
    {
      "cell_type": "code",
      "source": [
        "print(tf.__version__)"
      ],
      "metadata": {
        "colab": {
          "base_uri": "https://localhost:8080/"
        },
        "id": "2IK7TbLvatwg",
        "outputId": "7ad4320b-0f88-4647-d54b-e03d6df6d414"
      },
      "execution_count": null,
      "outputs": [
        {
          "output_type": "stream",
          "name": "stdout",
          "text": [
            "2.19.0\n"
          ]
        }
      ]
    },
    {
      "cell_type": "code",
      "source": [
        "# 1. Loading the dataset\n",
        "cifar10 = keras.datasets.cifar10 #Loading dataset\n",
        "\n",
        "(xtrain,ytrain), (xtest,ytest) = cifar10.load_data()\n",
        "print(ytrain.shape)\n",
        "print(ytest.shape)\n",
        "print(xtrain.shape)\n",
        "print(xtest.shape)\n",
        "print(ytrain)\n"
      ],
      "metadata": {
        "id": "ueoPgNqca8aC"
      },
      "execution_count": null,
      "outputs": []
    },
    {
      "cell_type": "code",
      "source": [
        "# 2. Defining array. Each item represents a value of labels\n",
        "'''Note, this works because for example, if we define an array and place \"airplane\" in index 0, we are assuming that\n",
        "the dataset also places \"airplane\" in index 0 for its labels\n",
        "If the dataset \"ciraf10\" places \"airplane\" in index 3 for example, the following array won't work as we intend'''\n",
        "\n",
        "class_names = [\"airplane\",\"automobile\",\"bird\",\"cat\",\"deer\",\"dog\",\"frog\",\"horse\",\"ship\",\"truck\"]\n",
        "print(class_names)"
      ],
      "metadata": {
        "id": "goWITmT2Hk3L"
      },
      "execution_count": null,
      "outputs": []
    },
    {
      "cell_type": "code",
      "source": [
        "# 3. Inspect the data in the array\n",
        "import random as rd\n",
        "\n",
        "# we can change this to look at whichever index we want to inspect. I am randomizing this to make it more interesting\n",
        "# it will change everytime you run this cell\n",
        "index=rd.randint(0, 100) # change this number\n",
        "plt.imshow(xtrain[index], cmap=plt.cm.binary) # printing 10th image. You may use cmap='gray'\n",
        "plt.colorbar() # shows the bar on the right side of the image\n",
        "plt.grid(True) # will show the grid\n",
        "plt.show()\n",
        "print(\"Class ID: %s and Class name: %s\" % (ytrain[index], class_names[ytrain[index][0]]))"
      ],
      "metadata": {
        "id": "xoJfeljWHmPL"
      },
      "execution_count": null,
      "outputs": []
    },
    {
      "cell_type": "code",
      "source": [
        "# 4. display the first 25 images from training set\n",
        "\n",
        "plt.figure(figsize=(10,10))\n",
        "for i in range(25): # 25 images\n",
        "  plt.subplot(5,5,i+1) # matrix of 5 X 5 array\n",
        "  plt.xticks([])\n",
        "  plt.yticks([])\n",
        "  plt.grid(False)\n",
        "  plt.imshow(xtrain[i], cmap=plt.cm.binary) # printing binary/black and white image\n",
        "    # The CIFAR labels happen to be arrays,\n",
        "    # which is why you need the extra index\n",
        "  plt.xlabel(\"%s %s\" % (ytrain[i], class_names[ytrain[i][0]])) # Assigning name to each image\n",
        "plt.show()"
      ],
      "metadata": {
        "id": "7isPwkHZHniy"
      },
      "execution_count": null,
      "outputs": []
    },
    {
      "cell_type": "code",
      "source": [
        "# Pixel value of the image falls between 0 to 255.\n",
        "'''This is a process called scaling, it makes training the model faster? Need more info about this'''\n",
        "\n",
        "xtrain = xtrain/255 # So, we are scale the value between 0 to 1 before by deviding each value by 255\n",
        "print(xtrain.shape)\n",
        "\n",
        "xtest = xtest/255 # So, we are scale the value between 0 to 1 before by deviding each value by 255\n",
        "print(xtest.shape)"
      ],
      "metadata": {
        "id": "g2eazRGZHo1H"
      },
      "execution_count": null,
      "outputs": []
    },
    {
      "cell_type": "code",
      "source": [
        "# One hot encoding of the labels.\n",
        "'''\n",
        "# convert\n",
        "# (ytrain)                  (1 corrospends to label)\n",
        "#                   [\"airplane\",\"automobile\",\"bird\",\"cat\",\"deer\", \"dog\"]\n",
        "# [6]                           [0 0 1 0 0 0]\n",
        "# [9]                           [0 0 0 0 0 1]\n",
        "# [9] ------------------>       [0 0 0 0 0 1]\n",
        "# [.]                              50000x10\n",
        "# [.]\n",
        "# 50000x1\n",
        "#(generally we do one hot encoding of the features in EDA but in this case we are doing it for labels)\n",
        "'''\n",
        "\n",
        "# Before one hot encoding\n",
        "print(\"ytrain Shape: %s and value: %s\" % (ytrain.shape, ytrain))\n",
        "print(\"ytest Shape: %s and value: %s\" % (ytest.shape, ytest))\n",
        "\n",
        "ytrain=to_categorical(ytrain)\n",
        "ytest=to_categorical(ytest)\n",
        "\n",
        "# After one hot encoding\n",
        "print(\"ytrain Shape: %s and value: %s\" % (ytrain.shape, ytrain[0]))\n",
        "print(\"ytest Shape: %s and value: %s\" % (ytest.shape, ytest[1]))"
      ],
      "metadata": {
        "id": "s9r9HkBZHp8s"
      },
      "execution_count": null,
      "outputs": []
    },
    {
      "cell_type": "code",
      "source": [
        "# Modelling - Model on CNN\n",
        "\n",
        "from tensorflow.keras import models, layers\n",
        "from keras.layers import Conv2D, MaxPooling2D, Flatten , Dense, Activation,Dropout\n",
        "\n",
        "# create a sequential model i.e. empty neural network which has no layers in it.\n",
        "model=models.Sequential()\n",
        "\n",
        "#==================== Feature Detection / extraction Block ====================#\n",
        "\n",
        "'''The first layer is the first add() invocation\n",
        "[32,32, 3] -> [64,3] -> [128,1]\n",
        "Need to figure out how to determine layer dimensions\n",
        "'''\n",
        "# Add first convolutional block - To deal with images we use Conv2D and for colour images and shape use Conv3D\n",
        "#model.add(layers.Conv2D(filters=6, kernal_size(3,3), input_shape=(32,32,1), activation='relu'))\n",
        "# in the first block we need to mention input_shape\n",
        "model.add(layers.Conv2D(64,(3,3),input_shape=(32,32,3),activation='relu'))\n",
        "model.add(layers.Conv2D(64,(3,3),input_shape=(32,32,3),activation='relu'))\n",
        "# Add the max pooling layer\n",
        "model.add(layers.MaxPooling2D(pool_size=(2,2)))\n",
        "model.add(Dropout(0.25))\n",
        "\n",
        "# Add Second convolutional block\n",
        "#model.add(layers.Conv2D(filters=6, kernal_size(3,3), activation='relu'))\n",
        "model.add(layers.Conv2D(128,(3,3),activation='relu'))\n",
        "model.add(layers.Conv2D(128,(3,3),activation='relu'))\n",
        "# Add the max pooling layer\n",
        "model.add(layers.MaxPooling2D(pool_size=(2,2)))\n",
        "model.add(Dropout(0.25))\n",
        "\n",
        "# Add Third convolutional block\n",
        "#model.add(layers.Conv2D(filters=6, kernal_size(3,3), activation='relu'))\n",
        "model.add(layers.Conv2D(256,(3,3),activation='relu'))\n",
        "# model.add(layers.Conv2D(256,(3,3),activation='relu'))\n",
        "# Add the max pooling layer\n",
        "model.add(layers.MaxPooling2D(pool_size=(2,2)))\n",
        "model.add(Dropout(0.25))\n",
        "\n",
        "\n",
        "#==================== Transition Block (from feature detection to classification) ====================#\n",
        "\n",
        "# Add Flatten layer. Flatten simply converts matrics to array\n",
        "model.add(layers.Flatten(input_shape=(32,32))) # this will flatten the image and after this Classification happens\n",
        "\n",
        "#==================== Classification Block ====================#\n",
        "\n",
        "# Classification segment - fully connected network\n",
        "# The Dense layer does classification and is deep neural network. Dense layer always accept the array.\n",
        "\n",
        "# Where did 128 come from?\n",
        "model.add(layers.Dense(128, activation='relu')) # as C5 layer in above image.\n",
        "# Where did 100 come from?\n",
        "model.add(layers.Dense(100, activation='relu')) # as C5 layer in above image.\n",
        "# Where did 80 come form?\n",
        "model.add(layers.Dense(80, activation='relu')) # as C5 layer in above image.\n",
        "# model.add(layers.Dense(60, activation='relu')) # as C5 layer in above image\n",
        "# model.add(layers.Dense(40, activation='relu')) # as C5 layer in above image\n",
        "# this 120 is hyper parameter whcih is number of neuron\n",
        "#model.add(layers.Dense(84, activation='relu'))# as F6 layer in aboave image\n",
        "\n",
        "# Add the output layer\n",
        "model.add(layers.Dense(10, activation='softmax')) # as Output layer in above image. The output layer normally have softmax activation\n",
        "\n",
        "# Ploting the Model\n",
        "plot_model(model)"
      ],
      "metadata": {
        "id": "ZonpQKZtHr6P"
      },
      "execution_count": null,
      "outputs": []
    }
  ]
}